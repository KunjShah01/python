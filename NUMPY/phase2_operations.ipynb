{
 "cells": [
  {
   "cell_type": "markdown",
   "id": "5e38bb0d",
   "metadata": {},
   "source": [
    "### numpy array operations"
   ]
  },
  {
   "cell_type": "code",
   "execution_count": 1,
   "id": "ef77fd7c",
   "metadata": {},
   "outputs": [],
   "source": [
    "import numpy as np\n"
   ]
  },
  {
   "cell_type": "code",
   "execution_count": 7,
   "id": "4f9f6d32",
   "metadata": {},
   "outputs": [
    {
     "name": "stdout",
     "output_type": "stream",
     "text": [
      "Basic slicing: [3 4 5 6 7]\n",
      "Slicing with step: [2 4 6 8]\n",
      "Slicing with negative step: [9 8 7 6 5 4]\n",
      "Negative slicing: 8\n"
     ]
    }
   ],
   "source": [
    "arr= np.array([1, 2, 3,4, 5, 6,7,8,9,10])\n",
    "print(\"Basic slicing:\",arr[2:7])\n",
    "print(\"Slicing with step:\", arr[1:8:2])\n",
    "print(\"Slicing with negative step:\", arr[8:2:-1])\n",
    "print(\"Negative slicing:\", arr[-3])"
   ]
  },
  {
   "cell_type": "code",
   "execution_count": 13,
   "id": "6cf96a53",
   "metadata": {},
   "outputs": [
    {
     "name": "stdout",
     "output_type": "stream",
     "text": [
      "Specific element: 6\n",
      "Entire row: [4 5 6]\n",
      "Entire column: [2 5 8]\n",
      "Slicing rows and columns: [[2 3]\n",
      " [5 6]]\n"
     ]
    }
   ],
   "source": [
    "arr_2d=np.array([[1, 2, 3], [4, 5, 6], [7, 8, 9]])\n",
    "print(\"Specific element:\", arr_2d[1, 2])  # Element at row 1, column 2\n",
    "print(\"Entire row:\", arr_2d[1, :])  # Entire row 1\n",
    "print(\"Entire column:\", arr_2d[:, 1])  # Entire column 1\n",
    "print(\"Slicing rows and columns:\", arr_2d[0:2, 1:3])  # Rows 0-1, columns 1-2"
   ]
  },
  {
   "cell_type": "markdown",
   "id": "1e490374",
   "metadata": {},
   "source": [
    "### Sorting"
   ]
  },
  {
   "cell_type": "code",
   "execution_count": 23,
   "id": "1214f6c4",
   "metadata": {},
   "outputs": [
    {
     "name": "stdout",
     "output_type": "stream",
     "text": [
      "Sorted array: [0 1 2 3 4 5 6 7 8 9]\n",
      "Sorted 2D array: [[2 1 4]\n",
      " [3 6 8]\n",
      " [5 7 9]]\n"
     ]
    }
   ],
   "source": [
    "unsorted_arr = np.array([3, 1, 4, 2,7,9,5,6,8,0])\n",
    "print(\"Sorted array:\",  np.sort(unsorted_arr))\n",
    "\n",
    "\n",
    "arr_2d_unsorted= np.array([[3, 1, 4], [2, 7, 9], [5, 6, 8]])\n",
    "print(\"Sorted 2D array:\", np.sort(arr_2d_unsorted, axis=0))  # Sort each column-"
   ]
  },
  {
   "cell_type": "markdown",
   "id": "8acd9d96",
   "metadata": {},
   "source": [
    "### Filtering"
   ]
  },
  {
   "cell_type": "code",
   "execution_count": null,
   "id": "595eaa63",
   "metadata": {},
   "outputs": [
    {
     "name": "stdout",
     "output_type": "stream",
     "text": [
      "Even numbers: [ 2  4  6  8 10]\n",
      "Odd numbers: [1 3 5 7 9]\n",
      "Even numbers in 2D array: [2 4 6 8]\n",
      "Odd numbers in 2D array: [1 3 5 7 9]\n",
      "Even numbers in 2D array: [2 4 6 8]\n",
      "Odd numbers in 2D array: [1 3 5 7 9]\n"
     ]
    }
   ],
   "source": [
    "numbers=np.array([1, 2, 3, 4, 5,6,7,8,9,10])\n",
    "even_number =  numbers[numbers % 2 == 0]\n",
    "print(\"Even numbers:\", even_number)\n",
    "odd_number = numbers[numbers % 2 != 0]\n",
    "print(\"Odd numbers:\", odd_number)\n",
    "arr_2d = np.array([[1, 2, 3], [4, 5, 6], [7, 8, 9]])\n",
    "even_2d = arr_2d[arr_2d % 2 == 0]\n",
    "print(\"Even numbers in 2D array:\", even_2d)\n",
    "arr_2d = np.array([[1, 2, 3], [4, 5, 6], [7, 8, 9]])\n",
    "odd_2d = arr_2d[arr_2d % 2 != 0]\n",
    "print(\"Odd numbers in 2D array:\", odd_2d)\n",
    "\n",
    "\n",
    "\n"
   ]
  },
  {
   "cell_type": "markdown",
   "id": "af51cf93",
   "metadata": {},
   "source": [
    "## Filter with mask"
   ]
  },
  {
   "cell_type": "code",
   "execution_count": null,
   "id": "1459a808",
   "metadata": {},
   "outputs": [
    {
     "name": "stdout",
     "output_type": "stream",
     "text": [
      "Mask for numbers > 5: [ 6  7  8  9 10]\n",
      "Mask for 2D array > 5: [6 7 8 9]\n",
      "Mask for 2D array < 5: [1 2 3 4]\n"
     ]
    }
   ],
   "source": [
    "mask=numbers > 5\n",
    "print(\"Mask for numbers > 5:\", numbers[mask])\n",
    "mask_2d = arr_2d > 5\n",
    "print(\"Mask for 2D array > 5:\", arr_2d[mask_2d])\n",
    "mask_2d = arr_2d < 5\n",
    "print(\"Mask for 2D array < 5:\", arr_2d[mask_2d])"
   ]
  },
  {
   "cell_type": "markdown",
   "id": "514f106c",
   "metadata": {},
   "source": [
    "### Fancing indexing vs np.where()\n",
    "\n",
    "\n",
    "#### np.where() is used to give condition "
   ]
  },
  {
   "cell_type": "code",
   "execution_count": 55,
   "id": "312c53a5",
   "metadata": {},
   "outputs": [
    {
     "name": "stdout",
     "output_type": "stream",
     "text": [
      "Elements at indices 0, 2, 4: [1 3 5]\n",
      "Indices where numbers > 5: [5 6 7 8 9]\n",
      "Condition array for numbers > 5: [ 1  2  3  4  5 12 14 16 18 20]\n",
      "There are elements greater than 10 in the condition array.\n",
      "Condition array with string values: ['False' 'False' 'False' 'False' 'False' 'True' 'True' 'True' 'True'\n",
      " 'True']\n"
     ]
    }
   ],
   "source": [
    "indices = np.array([0, 2, 4])\n",
    "print(\"Elements at indices 0, 2, 4:\", numbers[indices])\n",
    "where_result = np.where(numbers > 5)\n",
    "print(\"Indices where numbers > 5:\", where_result[0])  # Returns indices of elements satisfying the condition\n",
    "\n",
    "\n",
    "condition_array = np.where(numbers > 5,numbers*2, numbers)\n",
    "print(\"Condition array for numbers > 5:\", condition_array)  # Returns indices of elements satisfying the condition\n",
    "\n",
    "if (condition_array > 10).any():\n",
    "    print(\"There are elements greater than 10 in the condition array.\")\n",
    "else:\n",
    "    print(\"No elements greater than 10 in the condition array.\")\n",
    "\n",
    "condition_array = np.where(numbers > 5, \"True\", \"False\")\n",
    "print(\"Condition array with string values:\", condition_array)  # Returns indices of elements satisfying the condition"
   ]
  },
  {
   "cell_type": "markdown",
   "id": "6abba572",
   "metadata": {},
   "source": [
    "### Adding and removing data\n"
   ]
  },
  {
   "cell_type": "code",
   "execution_count": null,
   "id": "ec000873",
   "metadata": {},
   "outputs": [
    {
     "name": "stdout",
     "output_type": "stream",
     "text": [
      "Combined array: [1 2 3 4 5 6]\n"
     ]
    }
   ],
   "source": [
    "arr1= np.array([1, 2, 3])\n",
    "arr2 = np.array([4, 5, 6])\n",
    "\n",
    "combined_array = np.concatenate((arr1, arr2))\n",
    "print(\"Combined array:\", combined_array)  # Concatenates arr1 and arr2\n",
    "\n"
   ]
  },
  {
   "cell_type": "markdown",
   "id": "b5e6b6fc",
   "metadata": {},
   "source": [
    "### Array compatibility"
   ]
  },
  {
   "cell_type": "code",
   "execution_count": 61,
   "id": "40b920bf",
   "metadata": {},
   "outputs": [
    {
     "name": "stdout",
     "output_type": "stream",
     "text": [
      "Compatibility check for concatenation: [1 2 3 4 5 6 7 8 9]\n",
      "Compatibility check for concatenation with 2D array: True\n"
     ]
    }
   ],
   "source": [
    "a= np.array([1,2,3])\n",
    "b=np.array([4,5,6])\n",
    "c=np.array([7,8,9])\n",
    "print(\"Compatibility check for concatenation:\", np.concatenate((a, b, c)))  # Concatenates a, b, and c\n",
    "print(\"Compatibility check for concatenation with 2D array:\", a.shape==b.shape)"
   ]
  },
  {
   "cell_type": "code",
   "execution_count": 65,
   "id": "8ec1f6aa",
   "metadata": {},
   "outputs": [
    {
     "name": "stdout",
     "output_type": "stream",
     "text": [
      "Combined with new row: [[1 2]\n",
      " [3 4]\n",
      " [5 6]]\n",
      "Combined with new column: [[1 2 7]\n",
      " [3 4 8]\n",
      " [5 6 9]]\n"
     ]
    }
   ],
   "source": [
    "original= np.array([[1, 2], [3, 4]])\n",
    "new_row = np.array([[5, 6]])\n",
    "combined_with_row = np.vstack((original, new_row))\n",
    "print(\"Combined with new row:\", combined_with_row)  # Adds new_row as a new row to original\n",
    "\n",
    "new_column = np.array([[7], [8], [9]])\n",
    "combined_with_column = np.hstack((combined_with_row, new_column))\n",
    "print(\"Combined with new column:\", combined_with_column)  # Adds new_column as a new column to combined_with_row"
   ]
  },
  {
   "cell_type": "code",
   "execution_count": 69,
   "id": "196f5e60",
   "metadata": {},
   "outputs": [
    {
     "name": "stdout",
     "output_type": "stream",
     "text": [
      "Array after deleting second row: [1 2 4 5]\n"
     ]
    }
   ],
   "source": [
    "arr=np.array([1, 2,3,4,5])\n",
    "deleted = np.delete(arr,2)  # Deletes the second row (index 1)\n",
    "print(\"Array after deleting second row:\", deleted)  # Displays the array after deletion"
   ]
  }
 ],
 "metadata": {
  "kernelspec": {
   "display_name": ".venv",
   "language": "python",
   "name": "python3"
  },
  "language_info": {
   "codemirror_mode": {
    "name": "ipython",
    "version": 3
   },
   "file_extension": ".py",
   "mimetype": "text/x-python",
   "name": "python",
   "nbconvert_exporter": "python",
   "pygments_lexer": "ipython3",
   "version": "3.13.3"
  }
 },
 "nbformat": 4,
 "nbformat_minor": 5
}
