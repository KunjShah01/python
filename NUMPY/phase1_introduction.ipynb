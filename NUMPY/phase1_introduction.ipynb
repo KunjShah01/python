{
 "cells": [
  {
   "cell_type": "markdown",
   "id": "4f05d0e7",
   "metadata": {},
   "source": [
    "## Numpy array and basics\n",
    "learn about numpy with chi aur code"
   ]
  },
  {
   "cell_type": "code",
   "execution_count": 10,
   "id": "644d4004",
   "metadata": {},
   "outputs": [
    {
     "name": "stdout",
     "output_type": "stream",
     "text": [
      "Requirement already satisfied: numpy in d:\\python\\.venv\\lib\\site-packages (2.2.6)\n",
      "Note: you may need to restart the kernel to use updated packages.\n"
     ]
    }
   ],
   "source": [
    "%pip install numpy\n",
    "import numpy as np\n",
    "import time"
   ]
  },
  {
   "cell_type": "markdown",
   "id": "8ff543d8",
   "metadata": {},
   "source": [
    "# #creating array from list\n"
   ]
  },
  {
   "cell_type": "code",
   "execution_count": null,
   "id": "b6b389e7",
   "metadata": {},
   "outputs": [
    {
     "name": "stdout",
     "output_type": "stream",
     "text": [
      "!D Array {1, 2, 3, 4, 5}\n"
     ]
    }
   ],
   "source": [
    "arr_1d=np.array({1,2,3,4,5})\n",
    "print(\"1D Array:\",arr_1d)"
   ]
  },
  {
   "cell_type": "code",
   "execution_count": 5,
   "id": "d792c7c1",
   "metadata": {},
   "outputs": [
    {
     "name": "stdout",
     "output_type": "stream",
     "text": [
      "2D Array:\n",
      " [[1 2 3]\n",
      " [4 5 6]]\n"
     ]
    }
   ],
   "source": [
    "arr_2d=np.array([[1,2,3],[4,5,6]])\n",
    "print(\"2D Array:\\n\", arr_2d)"
   ]
  },
  {
   "cell_type": "markdown",
   "id": "94cc5df7",
   "metadata": {},
   "source": [
    "### List vs numpy array"
   ]
  },
  {
   "cell_type": "code",
   "execution_count": 7,
   "id": "b4e93a8e",
   "metadata": {},
   "outputs": [
    {
     "name": "stdout",
     "output_type": "stream",
     "text": [
      "Python list nultiplication: [1, 2, 3, 1, 2, 3, 1, 2, 3]\n"
     ]
    }
   ],
   "source": [
    "py_list = [1,2,3]\n",
    "print(\"Python list nultiplication:\", py_list * 3)"
   ]
  },
  {
   "cell_type": "code",
   "execution_count": null,
   "id": "01b36594",
   "metadata": {},
   "outputs": [
    {
     "name": "stdout",
     "output_type": "stream",
     "text": [
      "Numpy array multiplication: [3 6 9]\n"
     ]
    }
   ],
   "source": [
    "np_array = np.array([1,2,3]) #element wise multiplication\n",
    "print(\"Numpy array multiplication:\", np_array * 3)"
   ]
  },
  {
   "cell_type": "code",
   "execution_count": 11,
   "id": "cbcaf405",
   "metadata": {},
   "outputs": [
    {
     "name": "stdout",
     "output_type": "stream",
     "text": [
      "\n",
      " list operation time: 0.12227845191955566\n"
     ]
    }
   ],
   "source": [
    "start=time.time()\n",
    "py_list = [i*2 for i in range(1000000)]\n",
    "print(\"\\n list operation time:\", time.time() - start)"
   ]
  },
  {
   "cell_type": "code",
   "execution_count": 12,
   "id": "dbc66a3a",
   "metadata": {},
   "outputs": [
    {
     "name": "stdout",
     "output_type": "stream",
     "text": [
      "Numpy operation time: 0.29735803604125977\n"
     ]
    }
   ],
   "source": [
    "start_time = time.time()\n",
    "np_array = np.array([i*2 for i in range(1000000)])\n",
    "print(\"Numpy operation time:\", time.time() - start_time)"
   ]
  },
  {
   "cell_type": "markdown",
   "id": "a12a6f4e",
   "metadata": {},
   "source": [
    "### creating array from scratch"
   ]
  },
  {
   "cell_type": "code",
   "execution_count": 18,
   "id": "12fcad06",
   "metadata": {},
   "outputs": [
    {
     "name": "stdout",
     "output_type": "stream",
     "text": [
      "Zeros Array:\n",
      " [[0. 0. 0. 0.]\n",
      " [0. 0. 0. 0.]\n",
      " [0. 0. 0. 0.]]\n",
      "Ones Array:\n",
      " [[1. 1. 1.]\n",
      " [1. 1. 1.]]\n",
      "Full Array:\n",
      " [[7 7]\n",
      " [7 7]]\n",
      "Random Array:\n",
      " [[0.08365046 0.20546901]\n",
      " [0.02001925 0.66073578]]\n",
      "Sequence Array: [0 2 4 6 8]\n"
     ]
    }
   ],
   "source": [
    "zeros= np.zeros((3, 4))\n",
    "print(\"Zeros Array:\\n\", zeros)\n",
    "\n",
    "ones=np.ones((2, 3))\n",
    "print(\"Ones Array:\\n\", ones)\n",
    "\n",
    "full=np.full((2, 2), 7)\n",
    "print(\"Full Array:\\n\", full)\n",
    "\n",
    "\n",
    "random_array = np.random.random((2, 2))\n",
    "print(\"Random Array:\\n\", random_array)\n",
    "\n",
    "\n",
    "\n",
    "sequence = np.arange(0, 10, 2)\n",
    "print(\"Sequence Array:\", sequence)"
   ]
  },
  {
   "cell_type": "markdown",
   "id": "51473a48",
   "metadata": {},
   "source": [
    "### Vector, Matrix and Tensorflow"
   ]
  },
  {
   "cell_type": "code",
   "execution_count": 21,
   "id": "31d8516f",
   "metadata": {},
   "outputs": [
    {
     "name": "stdout",
     "output_type": "stream",
     "text": [
      "Vector: [1 2 3]\n",
      "Matrix:\n",
      " [[1 2]\n",
      " [3 4]]\n",
      "Tensor:\n",
      " [[[1 2]\n",
      "  [3 4]]\n",
      "\n",
      " [[5 6]\n",
      "  [7 8]]]\n"
     ]
    }
   ],
   "source": [
    "vector = np.array([1, 2, 3])\n",
    "print(\"Vector:\", vector)\n",
    "\n",
    "matrix = np.array([[1, 2], [3, 4]])\n",
    "print(\"Matrix:\\n\", matrix)\n",
    "\n",
    "tensor = np.array([[[1, 2], [3, 4]], [[5, 6], [7, 8]]])\n",
    "print(\"Tensor:\\n\", tensor)"
   ]
  },
  {
   "cell_type": "markdown",
   "id": "4592c6d2",
   "metadata": {},
   "source": [
    "### Array Properties"
   ]
  },
  {
   "cell_type": "code",
   "execution_count": 23,
   "id": "033d41fb",
   "metadata": {},
   "outputs": [
    {
     "name": "stdout",
     "output_type": "stream",
     "text": [
      "Original Array: [1 2 3 4 5]\n",
      "Array Shape: (5,)\n",
      "Array Size: 5\n",
      "Array Data Type: int64\n",
      "Array Dimension: 1\n"
     ]
    }
   ],
   "source": [
    "arr = np.array([1, 2, 3, 4, 5])\n",
    "print(\"Original Array:\", arr) \n",
    "print(\"Array Shape:\", arr.shape)  # Shape of the array\n",
    "print(\"Array Size:\", arr.size)    # Number of elements in the array \n",
    "print(\"Array Data Type:\", arr.dtype)  # Data type of the array elements\n",
    "print(\"Array Dimension:\", arr.ndim)  # Number of dimensions of the array"
   ]
  },
  {
   "cell_type": "markdown",
   "id": "ce247baf",
   "metadata": {},
   "source": [
    "### Array Reshaping"
   ]
  },
  {
   "cell_type": "code",
   "execution_count": null,
   "id": "6812ca3a",
   "metadata": {},
   "outputs": [
    {
     "name": "stdout",
     "output_type": "stream",
     "text": [
      "Original Array : [ 0  1  2  3  4  5  6  7  8  9 10 11]\n",
      "Reshaped Array:\n",
      " [[ 0  1  2  3]\n",
      " [ 4  5  6  7]\n",
      " [ 8  9 10 11]]\n",
      "Raveled Array: [ 0  1  2  3  4  5  6  7  8  9 10 11]\n",
      "Flattened Array: [ 0  1  2  3  4  5  6  7  8  9 10 11]\n",
      "Transposed Array:\n",
      " [[ 0  4  8]\n",
      " [ 1  5  9]\n",
      " [ 2  6 10]\n",
      " [ 3  7 11]]\n"
     ]
    }
   ],
   "source": [
    "arr = np.arange(12)\n",
    "print(\"Original Array :\", arr)\n",
    "\n",
    "reshaped=arr.reshape(3, 4)\n",
    "print(\"Reshaped Array:\\n\", reshaped)\n",
    "\n",
    "\n",
    "raveled = reshaped.ravel()\n",
    "print(\"Raveled Array:\", raveled)\n",
    "#returns view instead of copy\n",
    "flattened = reshaped.flatten()\n",
    "print(\"Flattened Array:\", flattened)\n",
    "#returns copy\n",
    "\n",
    "#transpose\n",
    "transposed = reshaped.T\n",
    "print(\"Transposed Array:\\n\", transposed)"
   ]
  },
  {
   "cell_type": "code",
   "execution_count": null,
   "id": "41f83916",
   "metadata": {},
   "outputs": [],
   "source": []
  }
 ],
 "metadata": {
  "kernelspec": {
   "display_name": ".venv",
   "language": "python",
   "name": "python3"
  },
  "language_info": {
   "codemirror_mode": {
    "name": "ipython",
    "version": 3
   },
   "file_extension": ".py",
   "mimetype": "text/x-python",
   "name": "python",
   "nbconvert_exporter": "python",
   "pygments_lexer": "ipython3",
   "version": "3.13.3"
  }
 },
 "nbformat": 4,
 "nbformat_minor": 5
}
