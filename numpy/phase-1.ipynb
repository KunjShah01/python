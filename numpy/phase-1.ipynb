{
 "cells": [
  {
   "cell_type": "markdown",
   "id": "af55ca74",
   "metadata": {},
   "source": [
    "## Numpy array and basics\n",
    "\n",
    "leaerning about numpy array and basics\n",
    "\n"
   ]
  },
  {
   "cell_type": "code",
   "execution_count": null,
   "id": "5cf0cfbf",
   "metadata": {},
   "outputs": [],
   "source": [
    "import numpy as np"
   ]
  },
  {
   "cell_type": "code",
   "execution_count": null,
   "id": "65ae2d0c",
   "metadata": {},
   "outputs": [],
   "source": [
    "\n",
    "# Example usage to avoid \"imported but unused\" warning\n",
    "a = np.array([1, 2, 3])\n",
    "print(a)"
   ]
  },
  {
   "cell_type": "code",
   "execution_count": null,
   "id": "a78b658e",
   "metadata": {},
   "outputs": [],
   "source": []
  }
 ],
 "metadata": {
  "kernelspec": {
   "display_name": "numpy (3.13.1)",
   "language": "python",
   "name": "python3"
  },
  "language_info": {
   "name": "python",
   "version": "3.13.1"
  }
 },
 "nbformat": 4,
 "nbformat_minor": 5
}
